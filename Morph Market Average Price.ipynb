{
 "cells": [
  {
   "cell_type": "code",
   "execution_count": 121,
   "metadata": {
    "scrolled": true
   },
   "outputs": [],
   "source": [
    "import re\n",
    "import requests\n",
    "from bs4 import BeautifulSoup\n",
    "from tqdm import tqdm\n",
    "from statistics import mean, median\n",
    "def cal_AVG_Price(morph,negmorph,morph_count,sex,maturity):\n",
    "\n",
    "    url = 'https://www.morphmarket.com/all/c/all?cat=2&sex='+str(sex)+'&maturity='+str(maturity)+'&min_weight=0&max_weight=1000000&prey_state=0&prey_food=0&min_genes=0&max_genes='+str(morph_count)+'&traits='+str(morph)+'&neg_traits='+str(negmorph)+'&min_price=0&max_price=1000000&cur=TWD&epoch=22&store=&nearby_location=&lat=&lng=&radius=&country=&export=&sort=def&layout=grid'\n",
    "\n",
    "    response = requests.get(url)\n",
    "\n",
    "    soup = BeautifulSoup(response.content, 'html.parser')\n",
    "\n",
    "    num_pages = int(soup.find_all('div', {'class': 'result-count'})[0].get_text().split()[2]) // 20 + 1\n",
    "\n",
    "    all_data = []\n",
    "    Avg_price=[]\n",
    "    result_count=int(soup.find_all('strong')[0].get_text().strip().split(\"of \")[1])\n",
    "    for page in tqdm(range(num_pages)):\n",
    "\n",
    "        page_url = url + '&page=' + str(page + 1)\n",
    "        response = requests.get(page_url)\n",
    "        soup = BeautifulSoup(response.content, 'html.parser')\n",
    "        listings = soup.find_all('span', {'class': 'price'})\n",
    "        for listing in listings:        \n",
    "            Avg_price.append(int(re.sub(r'\\D+', '', listing.get_text())))\n",
    "    \n",
    "\n",
    "    return(Avg_price)\n"
   ]
  },
  {
   "cell_type": "code",
   "execution_count": 129,
   "metadata": {},
   "outputs": [
    {
     "name": "stderr",
     "output_type": "stream",
     "text": [
      "100%|██████████| 1/1 [00:04<00:00,  4.25s/it]\n"
     ]
    }
   ],
   "source": [
    "morphs=[\"Ivory\",\"Leopard\"]\n",
    "negmorphs=[\"Clown\"]\n",
    "morph=\"%2C\".join([str(item) for item in morphs])\n",
    "negmorph=\"%2C\".join([str(item) for item in negmorphs])\n",
    "Avg_price=cal_AVG_Price(morph,negmorph,len(morphs),'',0)"
   ]
  },
  {
   "cell_type": "code",
   "execution_count": 131,
   "metadata": {},
   "outputs": [
    {
     "data": {
      "text/plain": [
       "500"
      ]
     },
     "execution_count": 131,
     "metadata": {},
     "output_type": "execute_result"
    }
   ],
   "source": [
    "median(Avg_price)"
   ]
  },
  {
   "cell_type": "code",
   "execution_count": null,
   "metadata": {},
   "outputs": [],
   "source": []
  }
 ],
 "metadata": {
  "kernelspec": {
   "display_name": "Python 3",
   "language": "python",
   "name": "python3"
  },
  "language_info": {
   "codemirror_mode": {
    "name": "ipython",
    "version": 3
   },
   "file_extension": ".py",
   "mimetype": "text/x-python",
   "name": "python",
   "nbconvert_exporter": "python",
   "pygments_lexer": "ipython3",
   "version": "3.7.3"
  }
 },
 "nbformat": 4,
 "nbformat_minor": 2
}
