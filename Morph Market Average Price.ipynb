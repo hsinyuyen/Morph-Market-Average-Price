{
 "cells": [
  {
   "cell_type": "code",
   "execution_count": 16,
   "metadata": {
    "scrolled": true
   },
   "outputs": [],
   "source": [
    "from tqdm import tqdm\n",
    "from statistics import mean, median\n",
    "import re\n",
    "import time\n",
    "from selenium import webdriver\n",
    "from selenium.webdriver.support.ui import WebDriverWait\n",
    "from selenium.webdriver.common.by import By\n",
    "from selenium.webdriver.support import expected_conditions as EC\n",
    "def cal_AVG_Price(morph,negmorph,morph_count,sex,maturity):\n",
    "\n",
    "    url = 'https://www.morphmarket.com/all/c/all?cat=2&sex='+str(sex)+'&maturity='+str(maturity)+'&min_weight=0&max_weight=1000000&prey_state=0&prey_food=0&min_genes=0&max_genes='+str(morph_count)+'&traits='+str(morph)+'&neg_traits='+str(negmorph)+'&min_price=0&max_price=1000000&cur=TWD&epoch=22&store=&nearby_location=&lat=&lng=&radius=&country=&export=&sort=def&layout=grid'\n",
    "\n",
    "    # 初始化浏览器\n",
    "    options = webdriver.ChromeOptions()\n",
    "    options.add_argument('headless')\n",
    "    chromedriver=\"D:\\chromedriver_win32\\chromedriver.exe\"\n",
    "    driver = webdriver.Chrome(chromedriver,options=options)\n",
    "\n",
    "    # 发送HTTP请求并获取响应\n",
    "    driver.get(url)\n",
    "    wait = WebDriverWait(driver, 10)\n",
    "    wait.until(EC.presence_of_all_elements_located((By.CLASS_NAME, 'body-content')))\n",
    "    time.sleep(2)\n",
    "    num_pages = int(driver.find_elements_by_xpath(\"//span[contains(@class,'EG4AcDi7rmnHyKttcy3m')]\")[1].text.split(\"of \")[1].split(\"\\n\")[0]) // 24 + 1\n",
    "    all_data = []\n",
    "    Avg_price=[]\n",
    "\n",
    "    for page in tqdm(range(num_pages)):\n",
    "        page_url = url + '&page=' + str(page + 1)\n",
    "        driver.get(url)\n",
    "        wait = WebDriverWait(driver, 10)\n",
    "        wait.until(EC.presence_of_all_elements_located((By.CLASS_NAME, 'body-content')))\n",
    "        time.sleep(2)\n",
    "\n",
    "\n",
    "        listings = driver.find_elements_by_xpath(\"//span[contains(@class,'DcnmwfUf5wJOeUm4iDCl')]\")\n",
    "        for listing in listings:        \n",
    "            try:\n",
    "                Avg_price.append(int(re.sub(r'\\D+', '', listing.text)))\n",
    "            except:\n",
    "                print(re.sub(r'\\D+', '', listing.get_text()))\n",
    "    return(Avg_price)\n"
   ]
  },
  {
   "cell_type": "code",
   "execution_count": 17,
   "metadata": {},
   "outputs": [
    {
     "name": "stderr",
     "output_type": "stream",
     "text": [
      "100%|██████████| 1/1 [00:04<00:00,  4.00s/it]\n"
     ]
    }
   ],
   "source": [
    "morphs=[\"Pastel\",\"Black+Pastel\",\"Leopard\"]\n",
    "negmorphs=[\"Super+Pastel\",\"Super+Black+Pastel\"]\n",
    "morph=\"%2C\".join([str(item) for item in morphs])\n",
    "negmorph=\"%2C\".join([str(item) for item in negmorphs])\n",
    "Avg_price=cal_AVG_Price(morph,negmorph,len(morphs),'',0)"
   ]
  },
  {
   "cell_type": "code",
   "execution_count": 18,
   "metadata": {},
   "outputs": [
    {
     "data": {
      "text/plain": [
       "300.0"
      ]
     },
     "execution_count": 18,
     "metadata": {},
     "output_type": "execute_result"
    }
   ],
   "source": [
    "median(Avg_price)"
   ]
  },
  {
   "cell_type": "code",
   "execution_count": null,
   "metadata": {},
   "outputs": [],
   "source": []
  }
 ],
 "metadata": {
  "kernelspec": {
   "display_name": "Python 3",
   "language": "python",
   "name": "python3"
  },
  "language_info": {
   "codemirror_mode": {
    "name": "ipython",
    "version": 3
   },
   "file_extension": ".py",
   "mimetype": "text/x-python",
   "name": "python",
   "nbconvert_exporter": "python",
   "pygments_lexer": "ipython3",
   "version": "3.7.3"
  }
 },
 "nbformat": 4,
 "nbformat_minor": 2
}
